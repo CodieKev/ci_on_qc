{
 "cells": [
  {
   "cell_type": "code",
   "execution_count": 1,
   "metadata": {},
   "outputs": [],
   "source": [
    "from qiskit.aqua.operators import WeightedPauliOperator\n",
    "from qiskit.quantum_info import Pauli\n",
    "\n",
    "def convert_pauli_str(gates):\n",
    "    pauli_string = list('IIII')\n",
    "\n",
    "    if gates == '':\n",
    "        return ''.join(pauli_string)\n",
    "    \n",
    "    else:\n",
    "\n",
    "        for pauli in gates.split(' '):\n",
    "            gate = pauli[0]\n",
    "            qubit = int(pauli[1])\n",
    "\n",
    "            pauli_string[qubit] = gate\n",
    "\n",
    "        pauli_string = ''.join(pauli_string)\n",
    "    \n",
    "\n",
    "    return pauli_string\n",
    "\n"
   ]
  },
  {
   "cell_type": "code",
   "execution_count": 4,
   "metadata": {},
   "outputs": [
    {
     "name": "stdout",
     "output_type": "stream",
     "text": [
      "-0.3276081896748089 IIII\n",
      "-0.04919764587136759 XXYY\n",
      "0.04919764587136759 XYYX\n",
      "0.04919764587136759 YXXY\n",
      "-0.04919764587136759 YYXX\n",
      "0.13716572937099494 ZIII\n",
      "0.15660062488237958 ZZII\n",
      "0.10622904490856085 ZIZI\n",
      "0.15542669077992843 ZIIZ\n",
      "0.13716572937099494 IZII\n",
      "0.15542669077992843 IZZI\n",
      "0.10622904490856085 IZIZ\n",
      "-0.1303629205710914 IIZI\n",
      "0.1632676867356435 IIZZ\n",
      "-0.13036292057109133 IIIZ\n"
     ]
    }
   ],
   "source": [
    "H2 = ['-0.3276081896748089 [] +', '-0.04919764587136759 [X0 X1 Y2 Y3] +','0.04919764587136759 [X0 Y1 Y2 X3] +','0.04919764587136759 [Y0 X1 X2 Y3] +','-0.04919764587136759 [Y0 Y1 X2 X3] +','0.13716572937099494 [Z0] +', '0.15660062488237958 [Z0 Z1] +','0.10622904490856085 [Z0 Z2] +', '0.15542669077992843 [Z0 Z3] +', '0.13716572937099494 [Z1] +', '0.15542669077992843 [Z1 Z2] +','0.10622904490856085 [Z1 Z3] +', '-0.1303629205710914 [Z2] +', '0.1632676867356435 [Z2 Z3] +', '-0.13036292057109133 [Z3] +' ]\n",
    "op_list = []\n",
    "for weighted_pauli in H2:\n",
    "    line = weighted_pauli.replace('+', '').replace(']','').split('[')    \n",
    "    weight  = float(line[0])\n",
    "    pauli_str = line[1][:-1]   \n",
    "    \n",
    "    final_str = convert_pauli_str(pauli_str)\n",
    "    \n",
    "    print(weight,final_str)\n",
    "    \n",
    "    op_list.append((weight, Pauli(label = final_str)))\n",
    "    \n",
    "    \n",
    "\n",
    "op = WeightedPauliOperator(op_list)"
   ]
  },
  {
   "cell_type": "code",
   "execution_count": null,
   "metadata": {},
   "outputs": [],
   "source": [
    "#Result generated from Codi\n",
    "\n",
    "H2 \n",
    "\n",
    "-0.3276081896748089 [] +\n",
    "-0.04919764587136759 [X0 X1 Y2 Y3] +\n",
    "0.04919764587136759 [X0 Y1 Y2 X3] +\n",
    "0.04919764587136759 [Y0 X1 X2 Y3] +\n",
    "-0.04919764587136759 [Y0 Y1 X2 X3] +\n",
    "0.13716572937099494 [Z0] +\n",
    "0.15660062488237958 [Z0 Z1] +\n",
    "0.10622904490856085 [Z0 Z2] +\n",
    "0.15542669077992843 [Z0 Z3] +\n",
    "0.13716572937099494 [Z1] +\n",
    "0.15542669077992843 [Z1 Z2] +\n",
    "0.10622904490856085 [Z1 Z3] +\n",
    "-0.1303629205710914 [Z2] +\n",
    "0.1632676867356435 [Z2 Z3] +\n",
    "-0.13036292057109133 [Z3]"
   ]
  },
  {
   "cell_type": "code",
   "execution_count": 5,
   "metadata": {},
   "outputs": [
    {
     "data": {
      "image/png": "[encoded data removed]",
      "text/plain": [
       "<Figure size 1081.19x264.88 with 1 Axes>"
      ]
     },
     "metadata": {},
     "output_type": "display_data"
    },
    {
     "name": "stdout",
     "output_type": "stream",
     "text": [
      "VQE Result : -1.0731275404157\n"
     ]
    }
   ],
   "source": [
    "from qiskit.aqua.algorithms import VQE, NumPyEigensolver\n",
    "from qiskit.aqua.components.optimizers import COBYLA\n",
    "from qiskit.circuit.library import EfficientSU2\n",
    "\n",
    "from qiskit import IBMQ, BasicAer, Aer\n",
    "import matplotlib.pyplot as plt\n",
    "import numpy as np\n",
    "\n",
    "#Define Backend\n",
    "backend = BasicAer.get_backend(\"statevector_simulator\")\n",
    "\n",
    "#Define Optimizer\n",
    "optimizer = COBYLA(maxiter=500, tol=0.0001)\n",
    "\n",
    "# Distance \n",
    "Distance = []\n",
    "Energy = []\n",
    "\n",
    "Distance.append(0.74)\n",
    "\n",
    "\n",
    "#Define Number of qubits\n",
    "n = 4\n",
    "\n",
    "#Define Ansatz\n",
    "ansatz = EfficientSU2(num_qubits=n, entanglement='linear')\n",
    "display(ansatz.draw('mpl'))\n",
    "\n",
    "#Operators\n",
    "\n",
    "operators = [op]\n",
    "\n",
    "# Run VQE \n",
    "\n",
    "for ops in operators:\n",
    "    experiment = VQE(ops,ansatz,optimizer)\n",
    "    energy = np.real(experiment.run(backend)['eigenvalue']) # energy shift?\n",
    "    \n",
    "    print('VQE Result : {}'.format(energy))\n",
    "    Energy.append(energy)\n"
   ]
  },
  {
   "cell_type": "code",
   "execution_count": 2,
   "metadata": {},
   "outputs": [],
   "source": [
    "\n",
    "\n"
   ]
  },
  {
   "cell_type": "code",
   "execution_count": 44,
   "metadata": {},
   "outputs": [],
   "source": []
  },
  {
   "cell_type": "code",
   "execution_count": 37,
   "metadata": {},
   "outputs": [
    {
     "data": {
      "text/plain": [
       "['']"
      ]
     },
     "execution_count": 37,
     "metadata": {},
     "output_type": "execute_result"
    }
   ],
   "source": []
  },
  {
   "cell_type": "code",
   "execution_count": 45,
   "metadata": {},
   "outputs": [
    {
     "data": {
      "text/plain": [
       "''"
      ]
     },
     "execution_count": 45,
     "metadata": {},
     "output_type": "execute_result"
    }
   ],
   "source": []
  },
  {
   "cell_type": "code",
   "execution_count": null,
   "metadata": {},
   "outputs": [],
   "source": []
  },
  {
   "cell_type": "code",
   "execution_count": 33,
   "metadata": {},
   "outputs": [],
   "source": [
    "\n",
    "\n",
    "\n",
    "\n",
    "\n",
    "\n",
    "\n",
    "\n",
    "\n",
    "\n",
    "\n",
    "\n",
    "\n",
    "\n",
    "\n",
    "\n"
   ]
  },
  {
   "cell_type": "code",
   "execution_count": null,
   "metadata": {},
   "outputs": [],
   "source": [
    ",\n",
    ",\n"
   ]
  },
  {
   "cell_type": "code",
   "execution_count": 34,
   "metadata": {},
   "outputs": [
    {
     "name": "stdout",
     "output_type": "stream",
     "text": [
      "['-0.04919764587136759 ', 'X0 X1 Y2 Y3 ']\n",
      "['0.04919764587136759 ', 'X0 Y1 Y2 X3 ']\n",
      "['0.04919764587136759 ', 'Y0 X1 X2 Y3 ']\n",
      "['-0.04919764587136759 ', 'Y0 Y1 X2 X3 ']\n",
      "['0.13716572937099494 ', 'Z0 ']\n",
      "['0.15660062488237958 ', 'Z0 Z1 ']\n",
      "['0.10622904490856085 ', 'Z0 Z2 ']\n",
      "['0.15542669077992843 ', 'Z0 Z3 ']\n",
      "['0.13716572937099494 ', 'Z1 ']\n",
      "['0.15542669077992843 ', 'Z1 Z2 ']\n",
      "['0.10622904490856085 ', 'Z1 Z3 ']\n",
      "['-0.1303629205710914 ', 'Z2 ']\n",
      "['0.1632676867356435 ', 'Z2 Z3 ']\n",
      "['-0.13036292057109133 ', 'Z3 ']\n"
     ]
    }
   ],
   "source": [
    "op = WeightedPauliOperator([(1,Pauli(label = ''))])\n",
    "\n",
    "operator = []\n",
    "\n",
    "\n",
    "#H2 = ['-0.04919764587136759 [X0 X1 Y2 Y3] +', '0.04919764587136759 [X0 Y1 Y2 X3] +']\n",
    "\n",
    "\n",
    "    \n",
    "    \n",
    "\n"
   ]
  },
  {
   "cell_type": "code",
   "execution_count": null,
   "metadata": {},
   "outputs": [],
   "source": [
    "test = '[X0 X1 Y2 Y3]'\n",
    "test = test.replace('[','').replace(']','')\n",
    "test.split(' ')"
   ]
  },
  {
   "cell_type": "code",
   "execution_count": null,
   "metadata": {},
   "outputs": [],
   "source": [
    "identity = list('IIII')"
   ]
  },
  {
   "cell_type": "code",
   "execution_count": 16,
   "metadata": {},
   "outputs": [],
   "source": [
    "\n",
    "    "
   ]
  },
  {
   "cell_type": "code",
   "execution_count": 24,
   "metadata": {},
   "outputs": [
    {
     "data": {
      "text/plain": [
       "['X0', 'X1', 'Y2', 'Y3']"
      ]
     },
     "execution_count": 24,
     "metadata": {},
     "output_type": "execute_result"
    }
   ],
   "source": [
    "pauli_str[:-1].split(' ')"
   ]
  },
  {
   "cell_type": "code",
   "execution_count": 22,
   "metadata": {},
   "outputs": [
    {
     "data": {
      "text/plain": [
       "['X0', 'X1', 'Y2', 'Y3', '']"
      ]
     },
     "execution_count": 22,
     "metadata": {},
     "output_type": "execute_result"
    }
   ],
   "source": [
    "pauli_str.split(' ')"
   ]
  },
  {
   "cell_type": "code",
   "execution_count": null,
   "metadata": {},
   "outputs": [],
   "source": [
    "a = 10\n",
    "b  = a"
   ]
  },
  {
   "cell_type": "code",
   "execution_count": null,
   "metadata": {},
   "outputs": [],
   "source": [
    "b = b *2 "
   ]
  },
  {
   "cell_type": "code",
   "execution_count": null,
   "metadata": {},
   "outputs": [],
   "source": [
    "a"
   ]
  },
  {
   "cell_type": "code",
   "execution_count": null,
   "metadata": {},
   "outputs": [],
   "source": []
  }
 ],
 "metadata": {
  "kernelspec": {
   "display_name": "Python 3",
   "language": "python",
   "name": "python3"
  },
  "language_info": {
   "codemirror_mode": {
    "name": "ipython",
    "version": 3
   },
   "file_extension": ".py",
   "mimetype": "text/x-python",
   "name": "python",
   "nbconvert_exporter": "python",
   "pygments_lexer": "ipython3",
   "version": "3.8.2"
  }
 },
 "nbformat": 4,
 "nbformat_minor": 4
}
